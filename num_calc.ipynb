{
 "cells": [
  {
   "cell_type": "markdown",
   "metadata": {},
   "source": [
    "# 数値計算  \n",
    "- **Submission date**: 2017/10/06  \n",
    "- **Team**: へび  \n",
    "- **Members**:  \n",
    "    - #5531 Akihiro Nitta  \n",
    "    - #???? Y K\n",
    "    - #???? K S"
   ]
  },
  {
   "cell_type": "markdown",
   "metadata": {},
   "source": [
    "## モジュールの読み込み \n",
    "- [numpy](http://www.numpy.org) is the main package for scientific computing with Python.  \n",
    "// - [scipy](http://www.scipy.org)  \n",
    "// - pprint  "
   ]
  },
  {
   "cell_type": "code",
   "execution_count": 77,
   "metadata": {
    "collapsed": true
   },
   "outputs": [],
   "source": [
    "import numpy as np\n",
    "# import scipy.linalg as linalg\n",
    "# import pprint"
   ]
  },
  {
   "cell_type": "markdown",
   "metadata": {},
   "source": [
    "## 2.2.4 課題  p. 14\n",
    "1. printfを使って次のように表示せよ.  \n",
    "   i) Hello world.  ii) 1+1=2  \n",
    "1. 次の数を順に表示せよ．  \n",
    "    i)1から5までの整数．  \n",
    "    ii) 5から1までの整数.  \n",
    "    iii) 1から10にある偶数．  \n",
    "1. 9x9表を作れ．  \n",
    "1. 1 から 5 までの和を求めよ.  \n",
    "1. nを5にして，n!=n×(n−1)×(n−2)⋯3×2×1n!=n×(n−1)×(n−1)⋯3×2×1を求めよ.  "
   ]
  },
  {
   "cell_type": "code",
   "execution_count": null,
   "metadata": {},
   "outputs": [],
   "source": [
    "# 1.\n",
    "# i)\n",
    "print('Hello world')\n",
    "# ii)\n",
    "print('1+1=2')"
   ]
  },
  {
   "cell_type": "code",
   "execution_count": null,
   "metadata": {},
   "outputs": [],
   "source": [
    "# 2.\n",
    "# i)\n",
    "print('i)')\n",
    "for i in range(1, 6):\n",
    "    print(i)\n",
    "# ii)\n",
    "print('ii)')\n",
    "for i in reversed(range(1, 5)):\n",
    "    print(str(i))\n",
    "# iii)\n",
    "print('iii)')\n",
    "for i in range(1, 11):\n",
    "    if i % 2 == 0:\n",
    "        print(i)"
   ]
  },
  {
   "cell_type": "code",
   "execution_count": null,
   "metadata": {},
   "outputs": [],
   "source": [
    "# 3.\n",
    "for i in range(1, 10):\n",
    "    for j in range(1, 10):\n",
    "        print(str(i*j), end=' ')\n",
    "    print('')"
   ]
  },
  {
   "cell_type": "code",
   "execution_count": null,
   "metadata": {},
   "outputs": [],
   "source": [
    "# 4.\n",
    "sum = 0\n",
    "for i in range(1, 6):\n",
    "    sum = sum + i\n",
    "print('sum = ' + str(sum))"
   ]
  },
  {
   "cell_type": "code",
   "execution_count": null,
   "metadata": {},
   "outputs": [],
   "source": [
    "# 5.\n",
    "n = 5\n",
    "factorial = 1\n",
    "for i in range(1, n+1):\n",
    "    factorial = factorial * i\n",
    "print(factorial)"
   ]
  },
  {
   "cell_type": "markdown",
   "metadata": {},
   "source": [
    "## 2.3.8 課題  p. 20  \n",
    "1. 1から100までの整数のうち5個をランダムに含んだ配列を生成せよ．  \n",
    "1. さいころを１００回振って，出た目１から６が何回出たかを表示せよ．  \n",
    "1. コイン６枚を一度に投げて，表向きの枚数を数えるプログラムを書け．  \n",
    "1. 0から9までの整数5個から5桁の整数を作れ．（１桁目が０になっても気にするな）  \n",
    "1. 小数点以下8桁のそれぞれの桁の数を配列に格納せよ．8桁の少数は以下のようにして作られる．  \n",
    "1. 255以下の10進数をランダムに生成して，8桁の2進数へ変換せよ．整数の割り算には irem(余り) と iquo(商) がある. 使用法は以下の通り．  "
   ]
  },
  {
   "cell_type": "code",
   "execution_count": 59,
   "metadata": {},
   "outputs": [
    {
     "name": "stdout",
     "output_type": "stream",
     "text": [
      "[27 72  4 22 72] [ 72.   4.   4.  72.  72.  27.  22.  22.  22.   4.]\n"
     ]
    }
   ],
   "source": [
    "# 1.\n",
    "array_1 = np.random.randint(1, 101, 5)\n",
    "array_2 = np.array([])\n",
    "\n",
    "for i in range(10):\n",
    "    array_2 = np.append(array_2, np.random.choice(array_1))\n",
    "\n",
    "print(array_1, array_2)"
   ]
  },
  {
   "cell_type": "code",
   "execution_count": 63,
   "metadata": {},
   "outputs": [
    {
     "name": "stdout",
     "output_type": "stream",
     "text": [
      "[ 12.  17.  19.  24.  15.  13.]\n"
     ]
    }
   ],
   "source": [
    "# 2.\n",
    "count = np.zeros(6)\n",
    "\n",
    "for i in range(100):\n",
    "    count[np.random.randint(0, 6)] += 1\n",
    "    \n",
    "print(count)"
   ]
  },
  {
   "cell_type": "code",
   "execution_count": 29,
   "metadata": {},
   "outputs": [
    {
     "name": "stdout",
     "output_type": "stream",
     "text": [
      "3\n"
     ]
    }
   ],
   "source": [
    "# 3.\n",
    "coin = np.random.rand(6)\n",
    "coin = coin>0.5\n",
    "print(coin.sum())"
   ]
  },
  {
   "cell_type": "code",
   "execution_count": 41,
   "metadata": {},
   "outputs": [
    {
     "name": "stdout",
     "output_type": "stream",
     "text": [
      "[4 4 2 7 9] 44279\n"
     ]
    }
   ],
   "source": [
    "# 4.\n",
    "values = np.random.randint(0, 10, 5)\n",
    "value = 0\n",
    "\n",
    "for v in values:\n",
    "    value *= 10\n",
    "    value += v\n",
    "\n",
    "print(values, value)\n"
   ]
  },
  {
   "cell_type": "code",
   "execution_count": 76,
   "metadata": {},
   "outputs": [
    {
     "name": "stdout",
     "output_type": "stream",
     "text": [
      "0.01155349252321003\n",
      "[ 0.  1.  1.  5.  5.  3.  4.  9.]\n"
     ]
    }
   ],
   "source": [
    "# 5.\n",
    "value = np.random.rand()\n",
    "array = np.array([])\n",
    "\n",
    "print(value)\n",
    "for i in range(8):\n",
    "    value = value - int(value)\n",
    "    value = value*10\n",
    "    array = np.append(array, int(value))\n",
    "\n",
    "print(array)\n",
    "\n"
   ]
  },
  {
   "cell_type": "code",
   "execution_count": null,
   "metadata": {},
   "outputs": [],
   "source": [
    "# 6.\n",
    "\n",
    "value = int(np.random.rand() * 255)\n",
    "value = 122\n",
    "print('value: ' + str(value))\n",
    "bin_value = ''\n",
    "while(value > 0):\n",
    "    if value % 2 == 0:\n",
    "        value /= 2\n",
    "        bin_value += '1'\n",
    "    else:\n",
    "        value -= 1\n",
    "        value /= 2\n",
    "        bin_value += '0'\n",
    "print('bin_value: ' + str(bin_value))\n"
   ]
  },
  {
   "cell_type": "markdown",
   "metadata": {},
   "source": [
    "## 2.4.4 課題  p. 24  \n",
    "1. 西暦を代入したら，明治，大正，昭和，平成で答えてくれるプログラムを作成せよ．西暦1868,1912,1926,1989年をそれぞれの元年とする．  \n",
    "1. 整数を代入したら，それ以下の素数をすべて表示するプログラムを作れ．素数かどうかの判定はMapleコマンドのisprimeを用いよ．  \n",
    "1. pが素数でp+2も素数のとき，これらは双子の素数と呼ばれる．10以上，100以下の双子の素数を全部見つけて出力せよ．  \n",
    "1. 素数判定を原理から実現せよ．ある数nが素数かどうか(自分自身の数nと1以外の数で割りきれないかどうか)を判定せよ．割り算の余り(剰余)はiremで求まる．  \n",
    "    例えばとして変数residue(余りの英語)をprintfしてみよ．番兵を置いておいて，n­1から2までの数でnを次々と割っていき，一度でも割り切れれば番兵にマークをつける．ループが終わった後に番兵のマークを見て素数(prime number)かどうかを判定すればよい．\n",
    "1. うるう年かどうかを表示するプログラムをかけ．\\\\うるう年は4で割り切れる数の年．ただし，100で割り切れる年はうるう年でなく，400で割り切れる年はうるう年．\n",
    "1. ゴールドバッハの予想 \\\\「6以上の偶数は二つの素数の和として表わされる」という予想を100以下の偶数について検証せよ．あらかじめ100までの素数をリストアップしておいてそのなかから組み合わせを探すと便利"
   ]
  },
  {
   "cell_type": "code",
   "execution_count": null,
   "metadata": {
    "scrolled": true
   },
   "outputs": [],
   "source": [
    "# 1.\n",
    "year = int(input('year >>> '))\n",
    "year_jp = 0\n",
    "\n",
    "# 平成\n",
    "if year >= 1989:\n",
    "    year_jp = year - 1989 + 1\n",
    "    print('平成' + str(year_jp) + '年')\n",
    "# 昭和\n",
    "elif year >= 1926:\n",
    "    year_jp = year - 1926 + 1\n",
    "    print('昭和' + str(year_jp) + '年')\n",
    "# 大正\n",
    "elif year >= 1912:\n",
    "    year_jp = year - 1912 + 1\n",
    "    print('大正' + str(year_jp) + '年')\n",
    "# 明治\n",
    "elif year >= 1868:\n",
    "    year_jp = year - 1868 + 1\n",
    "    print('明治' + str(year_jp) + '年')\n",
    "# それ以外\n",
    "else:\n",
    "    print('unknown')"
   ]
  },
  {
   "cell_type": "code",
   "execution_count": null,
   "metadata": {
    "scrolled": true
   },
   "outputs": [],
   "source": [
    "# 2.\n",
    "def isprime(num):\n",
    "    '''\n",
    "    Arguments:\n",
    "    num -- 素数判定対象のint値\n",
    "    \n",
    "    Returns:\n",
    "    True/False -- 素数であるか否か\n",
    "    '''\n",
    "    buff = num\n",
    "    bool_prime = True\n",
    "    for i in range(2, num):\n",
    "        if buff % i == 0:\n",
    "            bool_prime = False\n",
    "            break\n",
    "    return bool_prime\n",
    "\n",
    "value = int(input('value > '))\n",
    "print(isprime(value))\n",
    "\n",
    "for i in range(2, value+1):\n",
    "    if isprime(i):\n",
    "        print(i)"
   ]
  },
  {
   "cell_type": "code",
   "execution_count": null,
   "metadata": {},
   "outputs": [],
   "source": [
    "# 3.\n",
    "for i in range(10, 100+1):\n",
    "    if isprime(i) and isprime(i+2):\n",
    "        print(str(i) + ', ' + str(i+2))"
   ]
  },
  {
   "cell_type": "code",
   "execution_count": null,
   "metadata": {},
   "outputs": [],
   "source": [
    "# 4.\n"
   ]
  },
  {
   "cell_type": "code",
   "execution_count": null,
   "metadata": {
    "collapsed": true
   },
   "outputs": [],
   "source": [
    "# 5.\n"
   ]
  },
  {
   "cell_type": "code",
   "execution_count": null,
   "metadata": {
    "collapsed": true
   },
   "outputs": [],
   "source": [
    "# 6.\n"
   ]
  },
  {
   "cell_type": "markdown",
   "metadata": {},
   "source": [
    "## 2.4.5 課題  p. 29\n",
    "1. **三角形の面積**  \n",
    "    底辺と高さを引数として，面積を返す関数areaを作れ．  \n",
    "\n",
    "1. **MyIsprime**  \n",
    "    前章の課題４で求めた素数判定プログラムをprocにせよ．  \n",
    "\n",
    "1. **ルートの距離二つの位置座標**  \n",
    "    x1:=[0.0, 0.0] x2:=[1.0, 1.0]から距離を求めるMyDistance関数を作れ．次に，4つの位置座標 x[1]=[0.0, 0.0] x[2]=[1.0, 1.0] x[3]=[1.0, 0.0] x[4]=[0.0, 1.0] を読み込んで，座標順に[1,2,3,4,1]と巡る距離を求めよ．  \n",
    "\n",
    "1. **最大数**  \n",
    "    ランダムな整数が格納されたリストを受け取り，そのリスト中の最大数を返す関数MyMaxを作れ．1から100までのランダムな整数のリストは次のようにして作れる．  "
   ]
  },
  {
   "cell_type": "code",
   "execution_count": 107,
   "metadata": {
    "collapsed": true
   },
   "outputs": [],
   "source": [
    "# 1. 三角形の面積\n",
    "def area(base, height):\n",
    "    '''\n",
    "    Argument:\n",
    "    base -- 三角形の底辺\n",
    "    height -- 三角形の高さ\n",
    "    \n",
    "    Returns:\n",
    "    三角形の面積\n",
    "    '''\n",
    "    return base*height/2.0"
   ]
  },
  {
   "cell_type": "code",
   "execution_count": 108,
   "metadata": {},
   "outputs": [
    {
     "name": "stdout",
     "output_type": "stream",
     "text": [
      "area: 60.0\n"
     ]
    }
   ],
   "source": [
    "# 1. test\n",
    "print('area: ' + str(area(10, 12)))"
   ]
  },
  {
   "cell_type": "code",
   "execution_count": 109,
   "metadata": {
    "collapsed": true
   },
   "outputs": [],
   "source": [
    "# 2. MyIsprime"
   ]
  },
  {
   "cell_type": "code",
   "execution_count": 110,
   "metadata": {
    "scrolled": true
   },
   "outputs": [],
   "source": [
    "# 3. ルートの距離2つの位置座標"
   ]
  },
  {
   "cell_type": "code",
   "execution_count": 111,
   "metadata": {
    "collapsed": true
   },
   "outputs": [],
   "source": [
    "# 4. 最大数"
   ]
  }
 ],
 "metadata": {
  "kernelspec": {
   "display_name": "Python 3",
   "language": "python",
   "name": "python3"
  },
  "language_info": {
   "codemirror_mode": {
    "name": "ipython",
    "version": 3
   },
   "file_extension": ".py",
   "mimetype": "text/x-python",
   "name": "python",
   "nbconvert_exporter": "python",
   "pygments_lexer": "ipython3",
   "version": "3.6.1"
  }
 },
 "nbformat": 4,
 "nbformat_minor": 2
}
